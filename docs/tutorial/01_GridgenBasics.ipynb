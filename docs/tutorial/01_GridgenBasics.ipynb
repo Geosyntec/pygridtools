{
 "cells": [
  {
   "cell_type": "markdown",
   "metadata": {},
   "source": [
    "# Grid Generation Basics\n",
    "\n",
    "This section will cover:\n",
    "\n",
    "  1. Loading and visualizing boundary data\n",
    "  2. Generating visualizing a basic grid\n",
    "  3. Adding focus to the grid\n",
    "  \n",
    "This is sorely lacking in detail and explanation.\n",
    "For more help on this matter, see the [pygridgen documentation](http://pygridgen.github.io/pygridgen/tutorial/basics.html)."
   ]
  },
  {
   "cell_type": "code",
   "execution_count": null,
   "metadata": {},
   "outputs": [],
   "source": [
    "%matplotlib inline\n",
    "import warnings\n",
    "warnings.simplefilter('ignore')\n",
    "\n",
    "import numpy as np\n",
    "import matplotlib.pyplot as plt\n",
    "import pandas\n",
    "import geopandas\n",
    "\n",
    "import pygridgen as pgg\n",
    "import pygridtools as pgt"
   ]
  },
  {
   "cell_type": "markdown",
   "metadata": {},
   "source": [
    "## Loading and plotting the boundary data"
   ]
  },
  {
   "cell_type": "code",
   "execution_count": null,
   "metadata": {},
   "outputs": [],
   "source": [
    "domain = geopandas.read_file('basic_data/domain.geojson')\n",
    "domain"
   ]
  },
  {
   "cell_type": "code",
   "execution_count": null,
   "metadata": {},
   "outputs": [],
   "source": [
    "fig, ax = plt.subplots(figsize=(5, 5), subplot_kw={'aspect':'equal'})\n",
    "fig = pgt.viz.plot_domain(domain, betacol='beta', ax=ax)"
   ]
  },
  {
   "cell_type": "markdown",
   "metadata": {},
   "source": [
    "## Generating a grid with `pygridgen`, plotting with `pygridtools`"
   ]
  },
  {
   "cell_type": "code",
   "execution_count": null,
   "metadata": {},
   "outputs": [],
   "source": [
    "grid = pgg.Gridgen(domain.geometry.x, domain.geometry.y,\n",
    "                   domain.beta, shape=(50, 50), ul_idx=2)\n",
    "\n",
    "fig, ax = plt.subplots(figsize=(7, 7), subplot_kw={'aspect':'equal'})\n",
    "fig = pgt.viz.plot_cells(grid.x, grid.y, ax=ax)\n",
    "fig = pgt.viz.plot_domain(domain, betacol='beta', ax=ax)\n",
    "ax.set_xlim([0, 25])\n",
    "ax.set_ylim([0, 25])"
   ]
  },
  {
   "cell_type": "markdown",
   "metadata": {},
   "source": [
    "## Using *focus* to refine and coarsen portions of the grid"
   ]
  },
  {
   "cell_type": "code",
   "execution_count": null,
   "metadata": {},
   "outputs": [],
   "source": [
    "focus = pgg.Focus()\n",
    "\n",
    "focus.add_focus(0.90, 'y', factor=0.5, extent=0.05)\n",
    "focus.add_focus(0.50, 'y', factor=5, extent=0.1)\n",
    "focus.add_focus(0.65, 'x', factor=4, extent=0.2)\n",
    "grid.focus = focus\n",
    "grid.generate_grid()\n",
    "\n",
    "fig, ax = plt.subplots(figsize=(7, 7), subplot_kw={'aspect':'equal'})\n",
    "fig, cell_artist = pgt.viz.plot_cells(grid.x, grid.y, ax=ax)\n",
    "fig, domain_artist = pgt.viz.plot_domain(domain, betacol='beta', ax=ax)\n",
    "ax.set_xlim([0, 25])\n",
    "ax.set_ylim([0, 25])\n"
   ]
  }
 ],
 "metadata": {
  "kernelspec": {
   "display_name": "Python [default]",
   "language": "python",
   "name": "python3"
  },
  "language_info": {
   "codemirror_mode": {
    "name": "ipython",
    "version": 3
   },
   "file_extension": ".py",
   "mimetype": "text/x-python",
   "name": "python",
   "nbconvert_exporter": "python",
   "pygments_lexer": "ipython3",
   "version": "3.6.6"
  }
 },
 "nbformat": 4,
 "nbformat_minor": 1
}
