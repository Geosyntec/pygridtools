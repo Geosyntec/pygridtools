{
 "cells": [
  {
   "cell_type": "markdown",
   "metadata": {},
   "source": [
    "# Grid Generation Basics\n",
    "\n",
    "This note book will cover:\n",
    "\n",
    "  1. Loading and visualizing boundary data\n",
    "  2. Generating visualizing a basic grid\n",
    "  3. Adding focus to the grid"
   ]
  },
  {
   "cell_type": "code",
   "execution_count": null,
   "metadata": {
    "collapsed": false
   },
   "outputs": [],
   "source": [
    "import warnings\n",
    "warnings.simplefilter('ignore')\n",
    "\n",
    "import numpy as np\n",
    "import matplotlib.pyplot as plt\n",
    "import pandas\n",
    "\n",
    "import pygridgen as pgg\n",
    "import pygridtools as pgt\n",
    "\n",
    "import seaborn\n",
    "seaborn.set(style='ticks')\n",
    "\n",
    "%matplotlib inline"
   ]
  },
  {
   "cell_type": "markdown",
   "metadata": {},
   "source": [
    "## Load and plot the boundary data"
   ]
  },
  {
   "cell_type": "code",
   "execution_count": null,
   "metadata": {
    "collapsed": false
   },
   "outputs": [],
   "source": [
    "csvfile = \"basic_data/boundary.csv\"\n",
    "!cat {csvfile}"
   ]
  },
  {
   "cell_type": "code",
   "execution_count": null,
   "metadata": {
    "collapsed": false
   },
   "outputs": [],
   "source": [
    "boundary = pandas.read_csv(csvfile)\n",
    "boundary['reach'] = 'My Reach'\n",
    "fig, ax = plt.subplots(figsize=(5, 5), subplot_kw={'aspect':'equal'})\n",
    "fig = pgt.viz.plotDomain(data=boundary, domain_x='x', domain_y='y', beta='beta', ax=ax)\n",
    "\n",
    "seaborn.despine(ax=ax)"
   ]
  },
  {
   "cell_type": "markdown",
   "metadata": {},
   "source": [
    "## Generate a grid with `pygridgen`, plot it with `pygridtools`"
   ]
  },
  {
   "cell_type": "code",
   "execution_count": null,
   "metadata": {
    "collapsed": false
   },
   "outputs": [],
   "source": [
    "grid = pgg.Gridgen(boundary.x, boundary.y, boundary.beta, shape=(50,50), ul_idx=2)\n",
    "\n",
    "fig, ax = plt.subplots(figsize=(10, 10), subplot_kw={'aspect':'equal'})\n",
    "fig = pgt.viz.plotCells(grid.x, grid.y, ax=ax)\n",
    "fig = pgt.viz.plotDomain(data=boundary, domain_x='x', domain_y='y', beta=None, ax=ax)\n",
    "ax.set_xlim([0, 25])\n",
    "ax.set_ylim([0, 25])\n",
    "seaborn.despine(ax=ax)"
   ]
  },
  {
   "cell_type": "markdown",
   "metadata": {},
   "source": [
    "## Now numerically add focus the side channels, and coarsen the upper portion"
   ]
  },
  {
   "cell_type": "code",
   "execution_count": null,
   "metadata": {
    "collapsed": false
   },
   "outputs": [],
   "source": [
    "focus = pgg.Focus()\n",
    "\n",
    "focus.add_focus(0.90, 'y', factor=0.5, extent=0.05)\n",
    "focus.add_focus(0.50, 'y', factor=5, extent=0.1)\n",
    "focus.add_focus(0.65, 'x', factor=4, extent=0.2)\n",
    "grid.focus = focus\n",
    "grid.generate_grid()\n",
    "\n",
    "fig, ax = plt.subplots(figsize=(10, 10), subplot_kw={'aspect':'equal'})\n",
    "fig = pgt.viz.plotCells(grid.x, grid.y, ax=ax)\n",
    "fig = pgt.viz.plotDomain(data=boundary, domain_x='x', domain_y='y', beta=None, ax=ax)\n",
    "\n",
    "ax.set_xlim([0, 25])\n",
    "ax.set_ylim([0, 25])\n",
    "seaborn.despine(ax=ax)"
   ]
  }
 ],
 "metadata": {
  "kernelspec": {
   "display_name": "Python 3",
   "language": "python",
   "name": "python3"
  },
  "language_info": {
   "codemirror_mode": {
    "name": "ipython",
    "version": 3
   },
   "file_extension": ".py",
   "mimetype": "text/x-python",
   "name": "python",
   "nbconvert_exporter": "python",
   "pygments_lexer": "ipython3",
   "version": "3.4.3"
  }
 },
 "nbformat": 4,
 "nbformat_minor": 0
}