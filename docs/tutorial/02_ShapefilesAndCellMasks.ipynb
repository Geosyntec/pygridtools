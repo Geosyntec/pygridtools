{
 "cells": [
  {
   "cell_type": "markdown",
   "metadata": {},
   "source": [
    "# Masking grid cells\n",
    "\n",
    "This tutorial will demonstrate the following:\n",
    "\n",
    "  1. Basics of grid masking\n",
    "  1. Reading boundary, river, and island data from shapefiles\n",
    "  1. Generating a focused grid\n",
    "  1. Masking land cells from the shapefiles\n",
    "  1. Writing grid data to shapefiles"
   ]
  },
  {
   "cell_type": "code",
   "execution_count": null,
   "metadata": {},
   "outputs": [],
   "source": [
    "%matplotlib inline\n",
    "import numpy as np\n",
    "import matplotlib.pyplot as plt\n",
    "import pandas\n",
    "from shapely.geometry import Polygon\n",
    "import geopandas\n",
    "\n",
    "import pygridgen as pgg\n",
    "import pygridtools as pgt\n",
    "\n",
    "\n",
    "def show_the_grid(g, domain, river, islands, colors=None):\n",
    "    fig, (ax1, ax2) = plt.subplots(figsize=(12, 7.5), ncols=2, sharex=True, sharey=True)\n",
    "\n",
    "    _ = g.plot_cells(ax=ax1, cell_kws=dict(cmap='bone', colors=colors))\n",
    "    _ = g.plot_cells(ax=ax2, cell_kws=dict(cmap='bone', colors=colors))\n",
    "    \n",
    "    pgt.viz.plot_domain(domain, ax=ax2)\n",
    "    river.plot(ax=ax2, alpha=0.5, color='C0')\n",
    "    islands.plot(ax=ax2, alpha=0.5, color='C2')\n",
    "\n",
    "    \n",
    "    _ = ax1.set_title('just the grid')\n",
    "    _ = ax2.set_title('the grid + all the fixins')\n",
    "    \n",
    "    return fig\n",
    "\n",
    "\n",
    "def make_fake_bathy(grid):\n",
    "    j_cells, i_cells = grid.cell_shape\n",
    "    y, x = np.mgrid[:j_cells, :i_cells]\n",
    "    z = (y - (j_cells // 2))** 2 - x\n",
    "    return z"
   ]
  },
  {
   "cell_type": "markdown",
   "metadata": {},
   "source": [
    "## Masking basics\n",
    "Let's consider a simple, orthogonal $5\\times5$ unit grid and a basic rectangle that we will use to mask some elements of the grid:"
   ]
  },
  {
   "cell_type": "code",
   "execution_count": null,
   "metadata": {},
   "outputs": [],
   "source": [
    "y, x = np.mgrid[:5, 1:6]\n",
    "mg = pgt.ModelGrid(x, y)\n",
    "\n",
    "mask = geopandas.GeoSeries(map(Polygon, [\n",
    "    [(0.50, 3.25), (1.50, 3.25), (1.50, 2.75),\n",
    "     (3.25, 2.75), (2.25, 0.75), (0.50, 0.75)],\n",
    "    [(4.00, 2.50), (3.50, 1.50), (4.50, 1.50)]\n",
    "]))\n",
    "\n",
    "fig, ax = plt.subplots()\n",
    "fig, cells = mg.plot_cells(ax=ax)\n",
    "mask.plot(ax=ax, alpha=0.5)"
   ]
  },
  {
   "cell_type": "markdown",
   "metadata": {},
   "source": [
    "### Applying the masks options\n",
    "\n",
    "You have couple of options when applying a mask to a grid\n",
    "\n",
    "  1. `min_nodes=3` - This parameter configures how manx nodes of a cell must be inside a polygon to flag the whole cell as inside thet polygon.\n",
    "  1. `use_existing=True` - When this is `True` the new mask determined from the passed polygons will be unioned (`np.bitwise_or`) with anx existing mask that may be present. When this is `False` the old mask is completely overwritten with the new mask."
   ]
  },
  {
   "cell_type": "markdown",
   "metadata": {},
   "source": [
    "### Masking inside vs outside a polygon"
   ]
  },
  {
   "cell_type": "code",
   "execution_count": null,
   "metadata": {},
   "outputs": [],
   "source": [
    "fig, (ax1, ax2) = plt.subplots(figsize=(6, 3), ncols=2, sharex=True, sharey=True)\n",
    "\n",
    "common_opts = dict(use_existing=False)\n",
    "\n",
    "# mask inside\n",
    "_ = (\n",
    "    mg.mask_centroids(inside=mask, **common_opts)\n",
    "      .plot_cells(ax=ax1)\n",
    ")\n",
    "mask.plot(ax=ax1, alpha=0.5, color='C0')\n",
    "ax1.set_title('Mask inside')\n",
    "\n",
    "# mask outside\n",
    "_ = (\n",
    "    mg.mask_centroids(outside=mask, **common_opts)\n",
    "      .plot_cells(ax=ax2)\n",
    ")\n",
    "mask.plot(ax=ax2, alpha=0.5, color='C2')\n",
    "_ = ax2.set_title(\"Mask outside\")"
   ]
  },
  {
   "cell_type": "markdown",
   "metadata": {},
   "source": [
    "### Masking with nodes instead of centroids \n",
    "This time, we'll mask with the nodes of the cells instead of the centroids. We'll show four different masks, each generated with a different minimum number of nodes requires to classify a cell as inside the polygon."
   ]
  },
  {
   "cell_type": "code",
   "execution_count": null,
   "metadata": {},
   "outputs": [],
   "source": [
    "fig, axes = plt.subplots(figsize=(13, 3), ncols=4, sharex=True, sharey=True)\n",
    "\n",
    "\n",
    "common_opts = dict(use_existing=False)\n",
    "\n",
    "for ax, min_nodes in zip(axes.flat, [4, 3, 2, 1]):\n",
    "    # mask inside\n",
    "    _ = (\n",
    "        mg.mask_nodes(inside=mask, min_nodes=min_nodes, **common_opts)\n",
    "          .plot_cells(ax=ax)\n",
    "    )\n",
    "    mask.plot(ax=ax, alpha=0.5)\n",
    "    ax.set_title(\"min_nodes = {:d}\".format(min_nodes))\n"
   ]
  },
  {
   "cell_type": "markdown",
   "metadata": {},
   "source": [
    "## Example with islands and rivers\n"
   ]
  },
  {
   "cell_type": "code",
   "execution_count": null,
   "metadata": {},
   "outputs": [],
   "source": [
    "domain = (\n",
    "    geopandas.read_file(\"masking_data/input/GridBoundary.shp\")\n",
    "        .sort_values(by=['sort_order'])\n",
    ")\n",
    "\n",
    "river = geopandas.read_file(\"masking_data/input/River.shp\")\n",
    "islands = geopandas.read_file(\"masking_data/input/Islands.shp\")\n",
    "\n",
    "\n",
    "fig, ax = plt.subplots(figsize=(7.5, 7.5), subplot_kw={'aspect': 'equal'})\n",
    "fig = pgt.viz.plot_domain(domain, betacol='beta', ax=ax)\n",
    "river.plot(ax=ax, color='C0', alpha=0.5)\n",
    "islands.plot(ax=ax, color='C2', alpha=0.5)"
   ]
  },
  {
   "cell_type": "markdown",
   "metadata": {},
   "source": [
    "### Creating a `Gridgen` objects"
   ]
  },
  {
   "cell_type": "code",
   "execution_count": null,
   "metadata": {},
   "outputs": [],
   "source": [
    "# number of nodes in each dimension\n",
    "i_nodes = 100\n",
    "j_nodes = 20\n",
    "\n",
    "# grid focus\n",
    "focus = pgg.Focus()\n",
    "\n",
    "# tighten the grid in the channels around the big island\n",
    "focus.add_focus(5. / j_nodes, 'y', 4., extent=8./j_nodes)\n",
    "focus.add_focus(14.5 / j_nodes, 'y', 4., extent=4./j_nodes)\n",
    "\n",
    "# coarsen the grid upstream\n",
    "focus.add_focus(98. / i_nodes, 'x', 0.25, extent=4./i_nodes)\n",
    "\n",
    "# tighten the grid around the big island's bend\n",
    "focus.add_focus(52. / i_nodes, 'x', 4., extent=20./i_nodes)\n",
    "\n",
    "# generate the main grid\n",
    "grid = pgt.make_grid(\n",
    "    domain=domain, \n",
    "    ny=j_nodes, \n",
    "    nx=i_nodes,\n",
    "    ul_idx=17,\n",
    "    focus=focus,\n",
    "    rawgrid=False\n",
    ")"
   ]
  },
  {
   "cell_type": "markdown",
   "metadata": {},
   "source": [
    "### Show the raw (unmasked) grid"
   ]
  },
  {
   "cell_type": "code",
   "execution_count": null,
   "metadata": {},
   "outputs": [],
   "source": [
    "fig = show_the_grid(grid, domain, river, islands)"
   ]
  },
  {
   "cell_type": "markdown",
   "metadata": {},
   "source": [
    "### Mask out everything beyond the river banks"
   ]
  },
  {
   "cell_type": "code",
   "execution_count": null,
   "metadata": {},
   "outputs": [],
   "source": [
    "masked_river = grid.mask_centroids(outside=river)\n",
    "fig = show_the_grid(masked_river, domain, river, islands)"
   ]
  },
  {
   "cell_type": "markdown",
   "metadata": {},
   "source": [
    "### Loop through and mask out the islands"
   ]
  },
  {
   "cell_type": "code",
   "execution_count": null,
   "metadata": {},
   "outputs": [],
   "source": [
    "# inside the multiple islands\n",
    "masked_river_islands = masked_river.mask_centroids(inside=islands)\n",
    "fig = show_the_grid(masked_river_islands, domain, river, islands)"
   ]
  },
  {
   "cell_type": "markdown",
   "metadata": {},
   "source": [
    "## Plotting with e.g., bathymetry data\n",
    "\n",
    "The key here is that you need an array that is the same shape as the centroids of your grid"
   ]
  },
  {
   "cell_type": "code",
   "execution_count": null,
   "metadata": {},
   "outputs": [],
   "source": [
    "fake_bathy = make_fake_bathy(masked_river_islands)\n",
    "fig = show_the_grid(masked_river_islands,  domain, river, islands, colors=fake_bathy)"
   ]
  },
  {
   "cell_type": "markdown",
   "metadata": {},
   "source": [
    "## Exporting the masked cells to a GIS file"
   ]
  },
  {
   "cell_type": "code",
   "execution_count": null,
   "metadata": {},
   "outputs": [],
   "source": [
    "gdf = masked_river_islands.to_polygon_geodataframe(usemask=True)\n",
    "gdf.to_file('masking_data/output/ModelCells.shp')"
   ]
  },
  {
   "cell_type": "markdown",
   "metadata": {},
   "source": [
    "## View the final input and output in the QGIS file in `examples/masking_data/Grid.qgs`"
   ]
  }
 ],
 "metadata": {
  "kernelspec": {
   "display_name": "Python 3",
   "language": "python",
   "name": "python3"
  },
  "language_info": {
   "codemirror_mode": {
    "name": "ipython",
    "version": 3
   },
   "file_extension": ".py",
   "mimetype": "text/x-python",
   "name": "python",
   "nbconvert_exporter": "python",
   "pygments_lexer": "ipython3",
   "version": "3.6.6"
  }
 },
 "nbformat": 4,
 "nbformat_minor": 1
}
