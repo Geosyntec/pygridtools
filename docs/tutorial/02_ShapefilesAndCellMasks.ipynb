{
 "cells": [
  {
   "cell_type": "markdown",
   "metadata": {},
   "source": [
    "# Masking grid cells\n",
    "\n",
    "This tutorial will demonstrate the following:\n",
    "\n",
    "  1. Basics of grid masking\n",
    "  1. Reading boundary, river, and island data from shapefiles\n",
    "  1. Generating a focused grid\n",
    "  1. Masking land cells from the shapefiles\n",
    "  1. Writing grid data to shapefiles"
   ]
  },
  {
   "cell_type": "code",
   "execution_count": null,
   "metadata": {},
   "outputs": [],
   "source": [
    "%matplotlib inline\n",
    "import numpy as np\n",
    "import matplotlib.pyplot as plt\n",
    "import pandas\n",
    "\n",
    "import seaborn\n",
    "clear_bkgd = {'axes.facecolor':'none', 'figure.facecolor':'none'}\n",
    "palette = seaborn.color_palette(palette='deep')\n",
    "seaborn.set(style='ticks', context='notebook', rc=clear_bkgd)\n",
    "\n",
    "import pygridgen as pgg\n",
    "import pygridtools as pgt\n",
    "\n",
    "\n",
    "def show_the_grid(g, colors=None):\n",
    "    fig, (ax1, ax2) = plt.subplots(figsize=(12, 7.5), ncols=2, sharex=True, sharey=True)\n",
    "\n",
    "    _ = g.plot_cells(ax=ax1, cell_kws=dict(cmap='Blues', colors=colors))\n",
    "\n",
    "    _ = g.plot_cells(\n",
    "        ax=ax2, \n",
    "        cell_kws=dict(cmap='Blues'),\n",
    "        domain_kws=dict(domain_x='x', domain_y='y', beta='beta'),\n",
    "        extent_kws=dict(extent_x='x', extent_y='y'),\n",
    "        island_kws=dict(islands_x='x', islands_y='y', islands_name='name')\n",
    "    )\n",
    "    \n",
    "    _ = ax1.set_title('just the grid')\n",
    "    _ = ax2.set_title('the grid + all the fixins')\n",
    "    \n",
    "    return fig\n",
    "\n",
    "\n",
    "def make_fake_bathy(grid):\n",
    "    j_cells, i_cells = grid.cell_shape\n",
    "    y, x = np.mgrid[:j_cells, :i_cells]\n",
    "    z = (y - (j_cells // 2))** 2 - x\n",
    "    return z"
   ]
  },
  {
   "cell_type": "markdown",
   "metadata": {},
   "source": [
    "## Masking basics\n",
    "Let's consider a simple, orthogonal $5\\times5$ unit grid and a basic rectangle that we will use to mask some elements of the grid:"
   ]
  },
  {
   "cell_type": "code",
   "execution_count": null,
   "metadata": {},
   "outputs": [],
   "source": [
    "y, x = np.mgrid[:5, 1:6]\n",
    "mg = pgt.ModelGrid(x, y)\n",
    "\n",
    "mask_coords = [\n",
    "    (0.50, 3.25),\n",
    "    (1.50, 3.25),\n",
    "    (1.50, 2.75),\n",
    "    (3.25, 2.75),\n",
    "    (2.25, 0.75),\n",
    "    (0.50, 0.75),\n",
    "]\n",
    "\n",
    "fig, ax = plt.subplots()\n",
    "fig, cells = mg.plot_cells(ax=ax)\n",
    "mask_patch = plt.Polygon(mask_coords, color='forestgreen', alpha=0.5)\n",
    "ax.add_patch(mask_patch)"
   ]
  },
  {
   "cell_type": "markdown",
   "metadata": {},
   "source": [
    "### Applying the masks options\n",
    "\n",
    "You have few options when applying a mask to a grid\n",
    "\n",
    "  1. `inside=True` - by default, elements inside the polygon are masked. Setting this parameter to `False` will mask everything outside the polygon.\n",
    "  1. `min_nodes=3` - This parameter configures how manx nodes of a cell must be inside a polygon to flag the whole cell as inside thet polygon.\n",
    "  1. `use_existing=True` - When this is `True` the new mask determined from the passed polygons will be unioned (`np.bitwise_or`) with anx existing mask that may be present. When this is `False` the old mask is completely overwritten with the new mask."
   ]
  },
  {
   "cell_type": "markdown",
   "metadata": {},
   "source": [
    "### Masking inside vs outside a polygon"
   ]
  },
  {
   "cell_type": "code",
   "execution_count": null,
   "metadata": {},
   "outputs": [],
   "source": [
    "fig, (ax1, ax2) = plt.subplots(figsize=(6, 3), ncols=2, sharex=True, sharey=True)\n",
    "\n",
    "common_opts = dict(use_existing=False)\n",
    "\n",
    "# mask inside\n",
    "_ = (\n",
    "    mg.mask_centroids(mask_coords, inside=True, **common_opts)\n",
    "      .plot_cells(ax=ax1)\n",
    ")\n",
    "ax1.add_patch(plt.Polygon(mask_coords, color='forestgreen', alpha=0.5))\n",
    "ax1.set_title('Mask inside')\n",
    "\n",
    "# mask outside\n",
    "_ = (\n",
    "    mg.mask_centroids(mask_coords, inside=False, **common_opts)\n",
    "      .plot_cells(ax=ax2)\n",
    ")\n",
    "ax2.add_patch(plt.Polygon(mask_coords, color='cornflowerblue', alpha=0.5))\n",
    "_ = ax2.set_title(\"Mask outside\")"
   ]
  },
  {
   "cell_type": "markdown",
   "metadata": {},
   "source": [
    "### Masking with nodes instead of centroids \n",
    "This time, we'll mask with the nodes of the cells instead of the centroids. We'll show four different masks, each generated with a different minimum number of nodes requires to classify a cell as inside the polygon."
   ]
  },
  {
   "cell_type": "code",
   "execution_count": null,
   "metadata": {},
   "outputs": [],
   "source": [
    "fig, axes = plt.subplots(figsize=(13, 3),ncols=4, sharex=True, sharey=True)\n",
    "\n",
    "\n",
    "common_opts = dict(use_existing=False, inside=True)\n",
    "\n",
    "for ax, min_nodes in zip(axes.flat, [4, 3, 2, 1]):\n",
    "    # mask inside\n",
    "    _ = (\n",
    "        mg.mask_nodes(mask_coords, min_nodes=min_nodes, **common_opts)\n",
    "          .plot_cells(ax=ax)\n",
    "    )\n",
    "    ax.add_patch(plt.Polygon(mask_coords, color='forestgreen', alpha=0.5))\n",
    "    ax.set_title(\"min_nodes = {:d}\".format(min_nodes))\n"
   ]
  },
  {
   "cell_type": "markdown",
   "metadata": {},
   "source": [
    "## Loading data from shapefiles via `pygridtools.iotools`\n"
   ]
  },
  {
   "cell_type": "code",
   "execution_count": null,
   "metadata": {},
   "outputs": [],
   "source": [
    "boundaryfile = \"masking_data/input/GridBoundary.shp\"\n",
    "gridbounds = pgt.iotools.read_boundary(\n",
    "    boundaryfile, \n",
    "    sortcol='sort_order', \n",
    "    upperleftcol='upper_left'\n",
    ")\n",
    "\n",
    "riverfile = \"masking_data/input/River.shp\"\n",
    "river = pgt.iotools.read_polygons(riverfile)\n",
    "\n",
    "islandfile = \"masking_data/input/Islands.shp\"\n",
    "island_arrays = pgt.iotools.read_polygons(islandfile)\n",
    "islands = pandas.concat([\n",
    "    pandas.DataFrame({'x': arr[:, 0], 'y': arr[:, 1], 'name': n})\n",
    "    for n, arr in enumerate(island_arrays)\n",
    "])\n",
    "\n",
    "\n",
    "fig, ax = plt.subplots(figsize=(7.5, 7.5), subplot_kw={'aspect': 'equal'})\n",
    "fig = pgt.viz.plot_domain(data=gridbounds, domain_x='x', domain_y='y', ax=ax)\n",
    "fig = pgt.viz.plot_boundaries(ax=ax, engine='mpl', extent_x=river[:, 0], extent_y=river[:, 1],\n",
    "                              islands=islands, islands_x='x', islands_y='y', islands_name='name')"
   ]
  },
  {
   "cell_type": "markdown",
   "metadata": {},
   "source": [
    "## Creating a `Gridgen` objects"
   ]
  },
  {
   "cell_type": "code",
   "execution_count": null,
   "metadata": {},
   "outputs": [],
   "source": [
    "# number of nodes in each dimension\n",
    "i_nodes = 100\n",
    "j_nodes = 20\n",
    "\n",
    "# grid focus\n",
    "focus = pgg.Focus()\n",
    "\n",
    "# tighten the grid in the channels around the big island\n",
    "focus.add_focus(5. / j_nodes, 'y', 4., extent=8./j_nodes)\n",
    "focus.add_focus(14.5 / j_nodes, 'y', 4., extent=4./j_nodes)\n",
    "\n",
    "# coarsen the grid upstream\n",
    "focus.add_focus(98. / i_nodes, 'x', 0.25, extent=4./i_nodes)\n",
    "\n",
    "# tighten the grid around the big island's bend\n",
    "focus.add_focus(52. / i_nodes, 'x', 4., extent=20./i_nodes)\n",
    "\n",
    "# generate the main grid\n",
    "grid = pgt.make_grid(\n",
    "    domain=gridbounds, \n",
    "    ny=j_nodes, \n",
    "    nx=i_nodes,\n",
    "    ul_idx=17,\n",
    "    focus=focus,\n",
    "    rawgrid=False\n",
    ")"
   ]
  },
  {
   "cell_type": "markdown",
   "metadata": {},
   "source": [
    "### Show the raw (unmasked) grid"
   ]
  },
  {
   "cell_type": "code",
   "execution_count": null,
   "metadata": {},
   "outputs": [],
   "source": [
    "grid.domain = gridbounds\n",
    "grid.extent = pandas.DataFrame(river, columns=['x', 'y', 'z'])\n",
    "grid.islands = islands\n",
    "\n",
    "fig = show_the_grid(grid)"
   ]
  },
  {
   "cell_type": "markdown",
   "metadata": {},
   "source": [
    "### Mask out everything beyond the river banks"
   ]
  },
  {
   "cell_type": "code",
   "execution_count": null,
   "metadata": {},
   "outputs": [],
   "source": [
    "masked_river = grid.mask_centroids(river[:, :2], inside=False)\n",
    "\n",
    "fig = show_the_grid(masked_river)"
   ]
  },
  {
   "cell_type": "markdown",
   "metadata": {},
   "source": [
    "### Loop through and mask out the islands"
   ]
  },
  {
   "cell_type": "code",
   "execution_count": null,
   "metadata": {},
   "outputs": [],
   "source": [
    "# inside the multiple islands\n",
    "masked_river_islands = masked_river.copy()\n",
    "for island in island_arrays:\n",
    "    masked_river_islands = masked_river_islands.mask_centroids(island[:, :2], inside=True)\n",
    "    \n",
    "fig = show_the_grid(masked_river_islands)"
   ]
  },
  {
   "cell_type": "markdown",
   "metadata": {},
   "source": [
    "## Plotting with e.g., bathymetry data\n",
    "\n",
    "The key here is that you need an array that is the same shape as the centroids of your grid"
   ]
  },
  {
   "cell_type": "code",
   "execution_count": null,
   "metadata": {},
   "outputs": [],
   "source": [
    "fake_bathy = make_fake_bathy(masked_river_islands)\n",
    "\n",
    "fig = show_the_grid(masked_river_islands, colors=fake_bathy)"
   ]
  },
  {
   "cell_type": "markdown",
   "metadata": {},
   "source": [
    "## Exporting the masked cells to a shapefile"
   ]
  },
  {
   "cell_type": "code",
   "execution_count": null,
   "metadata": {},
   "outputs": [],
   "source": [
    "masked_river_islands.to_gis('masking_data/output/ModelCells.shp', \n",
    "                                  usemask=True, which='grid', geom='Polygon')"
   ]
  },
  {
   "cell_type": "markdown",
   "metadata": {},
   "source": [
    "## View the final input and output in the QGIS file in `examples/masking_data/Grid.qgs`"
   ]
  }
 ],
 "metadata": {
  "kernelspec": {
   "display_name": "Python 3",
   "language": "python",
   "name": "python3"
  },
  "language_info": {
   "codemirror_mode": {
    "name": "ipython",
    "version": 3
   },
   "file_extension": ".py",
   "mimetype": "text/x-python",
   "name": "python",
   "nbconvert_exporter": "python",
   "pygments_lexer": "ipython3",
   "version": "3.6.5"
  }
 },
 "nbformat": 4,
 "nbformat_minor": 1
}
