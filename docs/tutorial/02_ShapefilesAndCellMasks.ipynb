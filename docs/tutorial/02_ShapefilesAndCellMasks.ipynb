{
 "cells": [
  {
   "cell_type": "markdown",
   "metadata": {},
   "source": [
    "# Masking grid cells\n",
    "\n",
    "This tutorial will demonstrate the following:\n",
    "\n",
    "  1. Basics of grid masking\n",
    "  1. Reading boundary, river, and island data from shapefiles\n",
    "  1. Generating a focused grid\n",
    "  1. Masking land cells from the shapefiles\n",
    "  1. Writing grid data to shapefiles"
   ]
  },
  {
   "cell_type": "code",
   "execution_count": null,
   "metadata": {
    "collapsed": false
   },
   "outputs": [],
   "source": [
    "import numpy as np\n",
    "import matplotlib.pyplot as plt\n",
    "import pandas\n",
    "\n",
    "import seaborn\n",
    "clear_bkgd = {'axes.facecolor':'none', 'figure.facecolor':'none'}\n",
    "palette = seaborn.color_palette(palette='deep')\n",
    "seaborn.set(style='ticks', context='notebook', rc=clear_bkgd)\n",
    "\n",
    "import pygridgen as pgg\n",
    "import pygridtools as pgt\n",
    "\n",
    "%matplotlib inline"
   ]
  },
  {
   "cell_type": "markdown",
   "metadata": {},
   "source": [
    "## Masking basics\n",
    "Let's consider a simple, orthogonal $5\\times5$ unit grid and a basic rectangle that we will use to mask some elements of the grid:"
   ]
  },
  {
   "cell_type": "code",
   "execution_count": null,
   "metadata": {
    "collapsed": false
   },
   "outputs": [],
   "source": [
    "y, x = np.mgrid[:5, 1:6]\n",
    "mg = pgt.ModelGrid(x, y)\n",
    "rectangle_coords = [\n",
    "    (0.25, 2.75),\n",
    "    (3.25, 2.75),\n",
    "    (2.25, 0.75),\n",
    "    (0.25, 0.75),\n",
    "]\n",
    "\n",
    "fig, ax = plt.subplots()\n",
    "fig = mg.plotCells(ax=ax)\n",
    "rectangle = plt.Polygon(rectangle_coords, color='forestgreen', alpha=0.5)\n",
    "ax.add_patch(rectangle)"
   ]
  },
  {
   "cell_type": "markdown",
   "metadata": {},
   "source": [
    "### Applying the masks options\n",
    "\n",
    "You have few options when applying a mask to a grid\n",
    "\n",
    "  1. `inside=True` - by default, elements inside the polygon are masked. Setting this parameter to `False` will mask everything outside the polygon.\n",
    "  1. `use_centroids=True` - The default behavior is to determine if a cell is inside or outside the polygon based on the centroid of the cell. Setting to `False` will instead count the number of nodes of each cell inside the polygon and make the determination based on the `min_nodes` parameter (continue reading)\n",
    "  1. `min_nodes=3` - This parameter configures how many nodes of a cell must be inside a polygon to flag the whole cell as inside thet polygon.\n",
    "  1. `use_existing=True` - When this is `True` the new mask determined from the passed polygons will be unioned (`np.bitwise_or`) with any existing mask that may be present. When this is `False` the old mask is completely overwritten with the new mask."
   ]
  },
  {
   "cell_type": "markdown",
   "metadata": {},
   "source": [
    "### Masking inside vs outside a polygon"
   ]
  },
  {
   "cell_type": "code",
   "execution_count": null,
   "metadata": {
    "collapsed": false
   },
   "outputs": [],
   "source": [
    "fig, (ax1, ax2) = plt.subplots(figsize=(6, 3), ncols=2, sharex=True, sharey=True)\n",
    "\n",
    "common_opts = dict(use_centroids=True, use_existing=False)\n",
    "\n",
    "# mask inside\n",
    "mg.mask_cells_with_polygon(rectangle_coords, inside=True, **common_opts)\n",
    "rect1 = plt.Polygon(rectangle_coords, color='forestgreen', alpha=0.5)\n",
    "mg.plotCells(ax=ax1)\n",
    "ax1.add_patch(rect1)\n",
    "ax1.set_title('Mask inside')\n",
    "\n",
    "# mask outside\n",
    "mg.mask_cells_with_polygon(rectangle_coords, inside=False, **common_opts)\n",
    "rect2 = plt.Polygon(rectangle_coords, color='cornflowerblue', alpha=0.5)\n",
    "mg.plotCells(ax=ax2)\n",
    "ax2.add_patch(rect2)\n",
    "ax2.set_title(\"Mask outside\")"
   ]
  },
  {
   "cell_type": "markdown",
   "metadata": {},
   "source": [
    "### Masking with nodes instead of centroids \n",
    "This time, we'll mask with the nodes of the cells instead of the centroids. We'll show four different masks, each generated with a different minimum number of nodes requires to classify a cell as inside the polygon."
   ]
  },
  {
   "cell_type": "code",
   "execution_count": null,
   "metadata": {
    "collapsed": false
   },
   "outputs": [],
   "source": [
    "fig, axes = plt.subplots(figsize=(13, 3),ncols=4, sharex=True, sharey=True)\n",
    "\n",
    "\n",
    "common_opts = dict(use_centroids=False, use_existing=False, inside=True)\n",
    "\n",
    "for min_nodes, ax in enumerate(axes.flat, 1):\n",
    "    # mask inside\n",
    "    mg.mask_cells_with_polygon(rectangle_coords, min_nodes=min_nodes, **common_opts)\n",
    "    rect = plt.Polygon(rectangle_coords, color='forestgreen', alpha=0.5)\n",
    "    mg.plotCells(ax=ax)\n",
    "    ax.add_patch(rect)\n",
    "    ax.set_title(\"min_nodes = {:d}\".format(min_nodes))\n"
   ]
  },
  {
   "cell_type": "markdown",
   "metadata": {},
   "source": [
    "## Load a grid boundary, river, and set of islands using `pygridtools.io`"
   ]
  },
  {
   "cell_type": "code",
   "execution_count": null,
   "metadata": {
    "collapsed": false
   },
   "outputs": [],
   "source": [
    "boundaryfile = \"masking_data/input/GridBoundary.shp\"\n",
    "gridbounds = pgt.iotools.loadBoundaryFromShapefile(\n",
    "    boundaryfile, \n",
    "    sortcol='sort_order', \n",
    "    upperleftcol='upper_left'\n",
    ")\n",
    "\n",
    "riverfile = \"masking_data/input/River.shp\"\n",
    "river = pgt.iotools.loadPolygonFromShapefile(riverfile)\n",
    "\n",
    "islandfile = \"masking_data/input/Islands.shp\"\n",
    "island_arrays = pgt.iotools.loadPolygonFromShapefile(islandfile)\n",
    "island_df = pandas.concat([\n",
    "    pandas.DataFrame({'x': arr[:, 0], 'y': arr[:, 1], 'name': n})\n",
    "    for n, arr in enumerate(island_arrays)\n",
    "])\n",
    "\n",
    "\n",
    "fig, ax = plt.subplots(figsize=(7.5, 7.5), subplot_kw={'aspect': 'equal'})\n",
    "fig = pgt.viz.plotDomain(data=gridbounds, domain_x='x', domain_y='y', ax=ax)\n",
    "fig = pgt.viz.plotBoundaries(ax=ax, engine='mpl', extent_x=river[:, 0], extent_y=river[:, 1],\n",
    "                             islands=island_df, islands_x='x', islands_y='y', islands_name='name')"
   ]
  },
  {
   "cell_type": "markdown",
   "metadata": {},
   "source": [
    "## Create a `Gridgen` object and convert to a `ModelGrid`"
   ]
  },
  {
   "cell_type": "code",
   "execution_count": null,
   "metadata": {
    "collapsed": false
   },
   "outputs": [],
   "source": [
    "# number of nodes in each dimension\n",
    "nx = 100\n",
    "ny = 20\n",
    "\n",
    "# grid focus\n",
    "focus = pgg.Focus()\n",
    "\n",
    "# tighten the grid in the channels around the big island\n",
    "focus.add_focus(5./ny, 'y', 4., extent=8./ny)\n",
    "focus.add_focus(14.5/ny, 'y', 4., extent=4./ny)\n",
    "\n",
    "# coarsen the grid upstream\n",
    "focus.add_focus(98./nx, 'x', 0.25, extent=4./nx)\n",
    "\n",
    "# tighten the grid around the big island's bend\n",
    "focus.add_focus(52./nx, 'x', 4., extent=20./nx)\n",
    "\n",
    "# generate the main grid\n",
    "grid = pgt.makeGrid(\n",
    "    domain=gridbounds, \n",
    "    nx=nx, \n",
    "    ny=ny,\n",
    "    focus=focus,\n",
    "    rawgrid=False\n",
    ")\n"
   ]
  },
  {
   "cell_type": "markdown",
   "metadata": {},
   "source": [
    "## Show the raw (unmasked) grid"
   ]
  },
  {
   "cell_type": "code",
   "execution_count": null,
   "metadata": {
    "collapsed": false
   },
   "outputs": [],
   "source": [
    "grid.domain = gridbounds\n",
    "grid.extent = pandas.DataFrame(river, columns=['x', 'y'])\n",
    "grid.islands = island_df\n",
    "\n",
    "fig, ax = plt.subplots(figsize=(7.5, 7.5))\n",
    "fig = grid.plotCells(\n",
    "    ax=ax, \n",
    "    domain_kws=dict(domain_x='x', domain_y='y', beta='beta'),\n",
    "    extent_kws=dict(extent_x='x', extent_y='y'),\n",
    "    island_kws=dict(islands_x='x', islands_y='y', islands_name='name')\n",
    ")"
   ]
  },
  {
   "cell_type": "markdown",
   "metadata": {},
   "source": [
    "## Mask out everything beyond the river banks"
   ]
  },
  {
   "cell_type": "code",
   "execution_count": null,
   "metadata": {
    "collapsed": false
   },
   "outputs": [],
   "source": [
    "# outside the banks\n",
    "grid.mask_cells_with_polygon(river, inside=False)\n",
    "\n",
    "fig, ax = plt.subplots(figsize=(7.5, 7.5))\n",
    "fig = grid.plotCells(\n",
    "    ax=ax, \n",
    "    domain_kws=dict(domain_x='x', domain_y='y', beta='beta'),\n",
    "    extent_kws=dict(extent_x='x', extent_y='y'),\n",
    ")\n",
    "ax.grid(False)\n",
    "ax.set_aspect('equal')"
   ]
  },
  {
   "cell_type": "markdown",
   "metadata": {},
   "source": [
    "## Loop through and mask out the islands"
   ]
  },
  {
   "cell_type": "code",
   "execution_count": null,
   "metadata": {
    "collapsed": false
   },
   "outputs": [],
   "source": [
    "# inside the multiple islands\n",
    "for island in island_arrays:\n",
    "    grid.mask_cells_with_polygon(island, inside=True)\n",
    "    \n",
    "fig, ax = plt.subplots(figsize=(7.5, 7.5))\n",
    "fig = grid.plotCells(\n",
    "    ax=ax, \n",
    "    domain_kws=dict(domain_x='x', domain_y='y'),\n",
    "    extent_kws=dict(extent_x='x', extent_y='y'),\n",
    ")\n"
   ]
  },
  {
   "cell_type": "markdown",
   "metadata": {},
   "source": [
    "## Export the masked cells to a shapefile"
   ]
  },
  {
   "cell_type": "code",
   "execution_count": null,
   "metadata": {
    "collapsed": false
   },
   "outputs": [],
   "source": [
    "template = 'masking_data/input/cell_template.shp'\n",
    "grid.to_shapefile('masking_data/output/ModelCells.shp', usemask=True, \n",
    "                  which='grid', geom='Polygon', \n",
    "                  template=template)"
   ]
  },
  {
   "cell_type": "markdown",
   "metadata": {},
   "source": [
    "## View the final input and output in the QGIS file in `examples/masking_data/Grid.qgs`"
   ]
  }
 ],
 "metadata": {
  "kernelspec": {
   "display_name": "Python 3",
   "language": "python",
   "name": "python3"
  },
  "language_info": {
   "codemirror_mode": {
    "name": "ipython",
    "version": 3
   },
   "file_extension": ".py",
   "mimetype": "text/x-python",
   "name": "python",
   "nbconvert_exporter": "python",
   "pygments_lexer": "ipython3",
   "version": "3.4.4"
  }
 },
 "nbformat": 4,
 "nbformat_minor": 0
}