{
 "cells": [
  {
   "cell_type": "markdown",
   "metadata": {},
   "source": [
    "## Grid Manipulations (merge, split, refine, transform)\n",
    "### Notes\n",
    "Most grid transformations such as `merge` and `transpose` return a new object, allowing consecutive operations to be chained together.\n",
    "Optionally, you can pass `inplace=True` to the call signature to modify the existing object and return `None`.\n",
    "Both approaches are demonstrated below."
   ]
  },
  {
   "cell_type": "code",
   "execution_count": null,
   "metadata": {
    "collapsed": true
   },
   "outputs": [],
   "source": [
    "%matplotlib inline"
   ]
  },
  {
   "cell_type": "code",
   "execution_count": null,
   "metadata": {
    "collapsed": true
   },
   "outputs": [],
   "source": [
    "import numpy as np\n",
    "import matplotlib.pyplot as plt\n",
    "import pandas\n",
    "\n",
    "import pygridgen as pgg\n",
    "import pygridtools as pgt\n",
    "\n",
    "import seaborn\n",
    "clear_bkgd = {'axes.facecolor':'none', 'figure.facecolor':'none'}\n",
    "palette = seaborn.color_palette(palette='deep')\n",
    "seaborn.set(style='ticks', context='notebook', rc=clear_bkgd)"
   ]
  },
  {
   "cell_type": "markdown",
   "metadata": {},
   "source": [
    "### Basic merging operations\n",
    "The function below create our 3 test model grids moving counter-clockwise in the figure shown two cells down."
   ]
  },
  {
   "cell_type": "code",
   "execution_count": null,
   "metadata": {
    "collapsed": false
   },
   "outputs": [],
   "source": [
    "def make_test_grids():\n",
    "    domain1 = pandas.DataFrame({'x': [2, 5, 5, 2], 'y': [6, 6, 4, 4], 'beta': [1, 1, 1, 1]})\n",
    "    domain2 = pandas.DataFrame({'x': [6, 11, 11, 5], 'y': [5, 5, 3, 3], 'beta': [1, 1, 1, 1]})\n",
    "    domain3 = pandas.DataFrame({'x': [7, 9, 9, 7], 'y': [2, 2, 0, 0], 'beta': [1, 1, 1, 1]})\n",
    "\n",
    "    grid1 = pgt.makeGrid(domain=domain1, nx=6, ny=5, rawgrid=False)\n",
    "    grid2 = pgt.makeGrid(domain=domain2, nx=8, ny=7, rawgrid=False)\n",
    "    grid3 = pgt.makeGrid(domain=domain3, nx=4, ny=10, rawgrid=False)\n",
    "    \n",
    "    return grid1, grid2, grid3\n"
   ]
  },
  {
   "cell_type": "markdown",
   "metadata": {},
   "source": [
    "Display positions of grids relative to each other"
   ]
  },
  {
   "cell_type": "code",
   "execution_count": null,
   "metadata": {
    "collapsed": false
   },
   "outputs": [],
   "source": [
    "grid1, grid2, grid3 = make_test_grids()\n",
    "\n",
    "fig, ax = plt.subplots(figsize=(7.5, 7.5))\n",
    "fig = grid1.plotCells(ax=ax, cell_kws=dict(facecolor=palette[0], alpha=0.75))\n",
    "fig = grid2.plotCells(ax=ax, cell_kws=dict(facecolor=palette[1], alpha=0.75))\n",
    "fig = grid3.plotCells(ax=ax, cell_kws=dict(facecolor=palette[2], alpha=0.75))"
   ]
  },
  {
   "cell_type": "markdown",
   "metadata": {},
   "source": [
    "#### Merge grids 1 and 2 together, horizontally\n",
    "By default, the bottom rows are aligned and the cell mask is not updated. We do that manually for now."
   ]
  },
  {
   "cell_type": "code",
   "execution_count": null,
   "metadata": {
    "collapsed": false
   },
   "outputs": [],
   "source": [
    "grid1.merge(grid2, how='horiz', inplace=True)\n",
    "grid1.cell_mask = np.ma.masked_invalid(grid1.xc).mask\n",
    "fig, ax = plt.subplots(figsize=(7.5, 7.5))\n",
    "fig = grid1.plotCells(ax=ax, cell_kws=dict(facecolor=palette[3]))"
   ]
  },
  {
   "cell_type": "markdown",
   "metadata": {
    "collapsed": true
   },
   "source": [
    "#### Use the shift parameter to center grid 2\n",
    "Use `shift=-1` since we're sliding grid 2's i-j indexes downward relative to grid 1"
   ]
  },
  {
   "cell_type": "code",
   "execution_count": null,
   "metadata": {
    "collapsed": false
   },
   "outputs": [],
   "source": [
    "grid1, grid2, grid3 = make_test_grids()\n",
    "grid1.merge(grid2, how='horiz', shift=-1, inplace=True)\n",
    "grid1.cell_mask = np.ma.masked_invalid(grid1.xc).mask\n",
    "fig, ax = plt.subplots(figsize=(7.5, 7.5))\n",
    "fig = grid1.plotCells(ax=ax, cell_kws=dict(facecolor=palette[4], alpha=0.75))"
   ]
  },
  {
   "cell_type": "markdown",
   "metadata": {},
   "source": [
    "#### Vertically merge grid 2 and grid 3\n",
    "Notice that by default, the grids are left-aligned and the *bottom* of grid 3 ties into the *top* of grid 2"
   ]
  },
  {
   "cell_type": "code",
   "execution_count": null,
   "metadata": {
    "collapsed": false
   },
   "outputs": [],
   "source": [
    "grid1, grid2, grid3 = make_test_grids()\n",
    "grid2.merge(grid3, how='vert', shift=2, inplace=True)\n",
    "grid2.cell_mask = np.ma.masked_invalid(grid2.xc).mask\n",
    "fig, ax = plt.subplots(figsize=(7.5, 7.5))\n",
    "fig = grid2.plotCells(ax=ax, cell_kws=dict(facecolor='firebrick'))"
   ]
  },
  {
   "cell_type": "markdown",
   "metadata": {},
   "source": [
    "#### Try again, switching the order of the grids\n",
    "Notice the change in sign of the `shift` parameter."
   ]
  },
  {
   "cell_type": "code",
   "execution_count": null,
   "metadata": {
    "collapsed": false
   },
   "outputs": [],
   "source": [
    "grid1, grid2, grid3 = make_test_grids()\n",
    "grid3.merge(grid2, how='vert', shift=-2, inplace=True)\n",
    "grid3.cell_mask = np.ma.masked_invalid(grid3.xc).mask\n",
    "fig, ax = plt.subplots(figsize=(7.5, 7.5))\n",
    "fig = grid3.plotCells(ax=ax, cell_kws=dict(facecolor=palette[5], alpha=0.75))"
   ]
  },
  {
   "cell_type": "markdown",
   "metadata": {},
   "source": [
    "#### Alternatively, you can switch the arguments and use `where='-'` to indicate that the \"other\" grid is below the first.\n",
    "And the sign of the `shift` parameter returns to its original value."
   ]
  },
  {
   "cell_type": "code",
   "execution_count": null,
   "metadata": {
    "collapsed": false
   },
   "outputs": [],
   "source": [
    "grid1, grid2, grid3 = make_test_grids()\n",
    "grid2.merge(grid3, how='vert', where='-', shift=2, inplace=True)\n",
    "grid2.cell_mask = np.ma.masked_invalid(grid2.xc).mask\n",
    "fig, ax = plt.subplots(figsize=(7.5, 7.5))\n",
    "fig = grid2.plotCells(ax=ax, cell_kws=dict(facecolor=palette[0], alpha=0.75))"
   ]
  },
  {
   "cell_type": "markdown",
   "metadata": {},
   "source": [
    "#### Now merge all three in a single chained operation (`inplace=False`)."
   ]
  },
  {
   "cell_type": "code",
   "execution_count": null,
   "metadata": {
    "collapsed": false
   },
   "outputs": [],
   "source": [
    "grid1, grid2, grid3 = make_test_grids()\n",
    "grid = (\n",
    "    grid2.merge(grid3, how='vert', where='-', shift=2)\n",
    "         .merge(grid1, how='horiz', where='-', shift=11) \n",
    ")\n",
    "\n",
    "grid.cell_mask = np.ma.masked_invalid(grid.xc).mask\n",
    "fig, ax = plt.subplots(figsize=(7.5, 7.5))\n",
    "fig = grid.plotCells(ax=ax, cell_kws=dict(facecolor=palette[1], alpha=0.75))"
   ]
  },
  {
   "cell_type": "markdown",
   "metadata": {},
   "source": [
    "### Split the final grid into two vertical parts\n",
    "\n",
    "#### `grid.split(<index of split>, axis=0)`"
   ]
  },
  {
   "cell_type": "code",
   "execution_count": null,
   "metadata": {
    "collapsed": false
   },
   "outputs": [],
   "source": [
    "grid = pgt.ModelGrid(grid.nodes_x, grid.nodes_y)\n",
    "grid_bottom, grid_top = grid.split(14, axis=0)\n",
    "grid_bottom.cell_mask = np.ma.masked_invalid(grid_bottom.xc).mask\n",
    "grid_top.cell_mask = np.ma.masked_invalid(grid_top.xc).mask\n",
    "\n",
    "fig, ax = plt.subplots(figsize=(7.5, 7.5))\n",
    "fig = grid_bottom.plotCells(ax=ax, cell_kws=dict(facecolor=palette[2], alpha=0.75))\n",
    "fig = grid_top.plotCells(ax=ax, cell_kws=dict(facecolor=palette[3], alpha=0.75))"
   ]
  },
  {
   "cell_type": "markdown",
   "metadata": {},
   "source": [
    "### Splitting and linearly refining columns and rows\n",
    "#### Split the final grid into two horizontal parts\n",
    "\n",
    "`grid.split(<index of split>, axis=1)`"
   ]
  },
  {
   "cell_type": "code",
   "execution_count": null,
   "metadata": {
    "collapsed": false
   },
   "outputs": [],
   "source": [
    "grid = pgt.ModelGrid(grid.nodes_x, grid.nodes_y)\n",
    "grid_left, grid_right = grid.split(8, axis=1)\n",
    "grid_left.cell_mask = np.ma.masked_invalid(grid_left.xc).mask\n",
    "grid_right.cell_mask = np.ma.masked_invalid(grid_right.xc).mask\n",
    "\n",
    "fig, ax = plt.subplots(figsize=(7.5, 7.5))\n",
    "fig = grid_left.plotCells(ax=ax, cell_kws=dict(facecolor=palette[4], alpha=0.75))\n",
    "fig = grid_right.plotCells(ax=ax, cell_kws=dict(facecolor=palette[5], alpha=0.75))"
   ]
  },
  {
   "cell_type": "markdown",
   "metadata": {},
   "source": [
    "#### Refine individual rows of the grid cells \n",
    "`grid.refine(<index of cell>, axis=0, n_points=<num. of divisions>)`"
   ]
  },
  {
   "cell_type": "code",
   "execution_count": null,
   "metadata": {
    "collapsed": false
   },
   "outputs": [],
   "source": [
    "grid = pgt.ModelGrid(grid.nodes_x, grid.nodes_y)\n",
    "grid_refined = grid.refine(13, axis=0, n_points=2)\n",
    "grid_refined.cell_mask = np.ma.masked_invalid(grid_refined.xc).mask\n",
    "\n",
    "fig, ax = plt.subplots(figsize=(7.5, 7.5))\n",
    "fig = grid_refined.plotCells(ax=ax, cell_kws=dict(facecolor=palette[0], alpha=0.75))"
   ]
  },
  {
   "cell_type": "markdown",
   "metadata": {},
   "source": [
    "#### Refine individual columns of the grid cells \n",
    "`grid.refine(<index of cell>, axis=1, n_points=<num. of divisions>)`"
   ]
  },
  {
   "cell_type": "code",
   "execution_count": null,
   "metadata": {
    "collapsed": false
   },
   "outputs": [],
   "source": [
    "grid_refined_again = grid_refined.refine(10, axis=1, n_points=4)\n",
    "grid_refined_again.cell_mask = np.ma.masked_invalid(grid_refined_again.xc).mask\n",
    "\n",
    "fig, ax = plt.subplots(figsize=(7.5, 7.5))\n",
    "fig = grid_refined_again.plotCells(ax=ax, cell_kws=dict(facecolor=palette[1], alpha=0.75))"
   ]
  },
  {
   "cell_type": "markdown",
   "metadata": {},
   "source": [
    "### Chained operations\n",
    "#### One big chained operation for fun"
   ]
  },
  {
   "cell_type": "code",
   "execution_count": null,
   "metadata": {
    "collapsed": false
   },
   "outputs": [],
   "source": [
    "grid1, grid2, grid3 = make_test_grids()\n",
    "fig, ax = plt.subplots(figsize=(7.5, 7.5))\n",
    "\n",
    "fig = (\n",
    "  grid2.merge(grid3, how='vert', where='-', shift=2)\n",
    "       .merge(grid1, how='horiz', where='-', shift=11) \n",
    "       .refine(10, axis=1, n_points=4)\n",
    "       .refine(13, axis=0, n_points=2)\n",
    "       .transform(lambda x: x*5 + 2)\n",
    "       .update_cell_mask()\n",
    "       .plotCells(ax=ax, cell_kws=dict(facecolor=palette[2], alpha=0.75))\n",
    ")"
   ]
  }
 ],
 "metadata": {
  "kernelspec": {
   "display_name": "Python 3",
   "language": "python",
   "name": "python3"
  },
  "language_info": {
   "codemirror_mode": {
    "name": "ipython",
    "version": 3
   },
   "file_extension": ".py",
   "mimetype": "text/x-python",
   "name": "python",
   "nbconvert_exporter": "python",
   "pygments_lexer": "ipython3",
   "version": "3.4.4"
  }
 },
 "nbformat": 4,
 "nbformat_minor": 0
}