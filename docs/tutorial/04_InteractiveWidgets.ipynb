{
 "cells": [
  {
   "cell_type": "markdown",
   "metadata": {},
   "source": [
    "# Grid Generation with Interactive Widgets\n",
    "\n",
    "\n",
    "This notebook demostrates how to use the interative widgets. \n",
    "\n",
    "See a version of it in action:"
   ]
  },
  {
   "cell_type": "code",
   "execution_count": null,
   "metadata": {},
   "outputs": [],
   "source": [
    "from IPython.display import Audio,Image, YouTubeVideo\n",
    "YouTubeVideo('S5SG9km2f_A', height=450, width=900)"
   ]
  },
  {
   "cell_type": "markdown",
   "metadata": {},
   "source": [
    "## Main Tutorial "
   ]
  },
  {
   "cell_type": "code",
   "execution_count": null,
   "metadata": {},
   "outputs": [],
   "source": [
    "%matplotlib inline\n",
    "import warnings\n",
    "warnings.simplefilter('ignore')\n",
    "\n",
    "import numpy as np\n",
    "import matplotlib.pyplot as plt\n",
    "import pandas\n",
    "import geopandas\n",
    "\n",
    "from pygridgen import Gridgen\n",
    "from pygridtools import viz, iotools\n",
    "\n",
    "\n",
    "def plotter(x, y, **kwargs):\n",
    "    figsize = kwargs.pop('figsize', (9, 9))\n",
    "    fig, ax = plt.subplots(figsize=figsize)\n",
    "    ax.set_aspect('equal')\n",
    "    viz.plot_domain(domain, betacol='beta', ax=ax)\n",
    "    ax.set_xlim([0, 25])\n",
    "    ax.set_ylim([0, 25])\n",
    "    return viz.plot_cells(x, y, ax=ax, **kwargs)"
   ]
  },
  {
   "cell_type": "markdown",
   "metadata": {},
   "source": [
    "## Loading and plotting the boundary data"
   ]
  },
  {
   "cell_type": "code",
   "execution_count": null,
   "metadata": {},
   "outputs": [],
   "source": [
    "domain = geopandas.read_file('basic_data/domain.geojson')\n",
    "\n",
    "fig, ax = plt.subplots(figsize=(9, 9), subplot_kw={'aspect':'equal'})\n",
    "fig = viz.plot_domain(domain, betacol='beta', ax=ax)"
   ]
  },
  {
   "cell_type": "markdown",
   "metadata": {},
   "source": [
    "## Generating a grid with `pygridgen`, plotting with `pygridtools`"
   ]
  },
  {
   "cell_type": "code",
   "execution_count": null,
   "metadata": {},
   "outputs": [],
   "source": [
    "grid = Gridgen(domain.geometry.x, domain.geometry.y,\n",
    "               domain.beta, shape=(50, 50), ul_idx=2)\n",
    "\n",
    "fig_orig, artists = plotter(grid.x, grid.y)"
   ]
  },
  {
   "cell_type": "markdown",
   "metadata": {},
   "source": [
    "### Interactively manipulate the `Focus`"
   ]
  },
  {
   "cell_type": "code",
   "execution_count": null,
   "metadata": {
    "scrolled": false
   },
   "outputs": [],
   "source": [
    "focus, focuser_widget = iotools.interactive_grid_focus(grid, n_points=3, plotfxn=plotter)\n",
    "focuser_widget"
   ]
  },
  {
   "cell_type": "markdown",
   "metadata": {},
   "source": [
    "### Interactively change the number of nodes in the grid\n",
    "\n",
    "(Notice how the focus stay where we want)"
   ]
  },
  {
   "cell_type": "code",
   "execution_count": null,
   "metadata": {},
   "outputs": [],
   "source": [
    "reshaped, shaper_widget = iotools.interactive_grid_shape(grid, max_n=100, plotfxn=plotter)\n",
    "shaper_widget"
   ]
  },
  {
   "cell_type": "code",
   "execution_count": null,
   "metadata": {},
   "outputs": [],
   "source": [
    "fig_orig"
   ]
  },
  {
   "cell_type": "markdown",
   "metadata": {},
   "source": [
    "### Save, load, and recreate the altered grid without widgets"
   ]
  },
  {
   "cell_type": "code",
   "execution_count": null,
   "metadata": {},
   "outputs": [],
   "source": [
    "import json\n",
    "from pathlib import Path\n",
    "from tempfile import TemporaryDirectory\n",
    "\n",
    "with TemporaryDirectory() as td:\n",
    "    f = Path(td, 'widget_grid.json')\n",
    "    with f.open('w') as grid_write:\n",
    "        json.dump(grid.to_spec(), grid_write)\n",
    "        \n",
    "    with f.open('r') as grid_read:\n",
    "        spec = json.load(grid_read)\n",
    "        \n",
    "new_grid = Gridgen.from_spec(spec)\n",
    "plotter(new_grid.x, new_grid.y)"
   ]
  }
 ],
 "metadata": {
  "kernelspec": {
   "display_name": "Python 3",
   "language": "python",
   "name": "python3"
  },
  "language_info": {
   "codemirror_mode": {
    "name": "ipython",
    "version": 3
   },
   "file_extension": ".py",
   "mimetype": "text/x-python",
   "name": "python",
   "nbconvert_exporter": "python",
   "pygments_lexer": "ipython3",
   "version": "3.7.3"
  }
 },
 "nbformat": 4,
 "nbformat_minor": 1
}
